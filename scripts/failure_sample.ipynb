{
 "cells": [
  {
   "cell_type": "code",
   "execution_count": 5,
   "id": "initial_id",
   "metadata": {
    "collapsed": true,
    "ExecuteTime": {
     "end_time": "2024-11-08T16:40:30.555337Z",
     "start_time": "2024-11-08T16:40:30.453446Z"
    }
   },
   "outputs": [
    {
     "name": "stdout",
     "output_type": "stream",
     "text": [
      "Using existing aggregated datasets.\n"
     ]
    }
   ],
   "source": [
    "from report import *\n",
    "\n",
    "# Load the functional dataset\n",
    "reports_dir = '../data'\n",
    "data = extract(reports_dir, reports_dir)[0]"
   ]
  },
  {
   "cell_type": "code",
   "outputs": [
    {
     "data": {
      "text/plain": "['[engine:junit-jupiter]/[class:edu.neu.ccs.prl.galette.bench.ArrayAccessITCase]/[test-template:getSetElement(java.lang.Class, boolean, boolean, boolean)]/[test-template-invocation:#57]',\n '[engine:junit-jupiter]/[class:edu.neu.ccs.prl.galette.bench.ArrayLengthITCase]/[method:multiDimensionReferenceArrayLength(edu.neu.ccs.prl.galette.bench.extension.TagManager, edu.neu.ccs.prl.galette.bench.extension.FlowChecker)]',\n '[engine:junit-jupiter]/[class:edu.neu.ccs.prl.galette.bench.ArrayReflectionITCase]/[test-template:getSetElement(java.lang.Class, boolean, boolean, boolean)]/[test-template-invocation:#44]',\n '[engine:junit-jupiter]/[class:edu.neu.ccs.prl.galette.bench.CollectionITCase]/[method:sortTaintedLinkedList(edu.neu.ccs.prl.galette.bench.extension.TagManager, edu.neu.ccs.prl.galette.bench.extension.FlowChecker)]',\n '[engine:junit-jupiter]/[class:edu.neu.ccs.prl.galette.bench.ConstructorReflectionITCase]/[test-template:newInstance(java.lang.Class, boolean, edu.neu.ccs.prl.galette.bench.HolderValueCategory)]/[test-template-invocation:#12]',\n '[engine:junit-jupiter]/[class:edu.neu.ccs.prl.galette.bench.FieldITCase]/[method:inheritedStaticField(edu.neu.ccs.prl.galette.bench.extension.TagManager, edu.neu.ccs.prl.galette.bench.extension.FlowChecker)]',\n '[engine:junit-jupiter]/[class:edu.neu.ccs.prl.galette.bench.FieldReflectionITCase]/[test-template:setField(java.lang.Class, boolean, edu.neu.ccs.prl.galette.bench.HolderValueCategory)]/[test-template-invocation:#11]',\n '[engine:junit-jupiter]/[class:edu.neu.ccs.prl.galette.bench.JdkUnsafeITCase]/[test-template:compareAndExchangeObject(boolean, boolean, edu.neu.ccs.prl.galette.bench.VariableLocation)]/[test-template-invocation:#5]',\n '[engine:junit-jupiter]/[class:edu.neu.ccs.prl.galette.bench.LambdaITCase]/[method:boxingLambda(edu.neu.ccs.prl.galette.bench.extension.TagManager, edu.neu.ccs.prl.galette.bench.extension.FlowChecker)]',\n '[engine:junit-jupiter]/[class:edu.neu.ccs.prl.galette.bench.LoopITCase]/[method:forEachLoop(edu.neu.ccs.prl.galette.bench.extension.TagManager, edu.neu.ccs.prl.galette.bench.extension.FlowChecker)]',\n '[engine:junit-jupiter]/[class:edu.neu.ccs.prl.galette.bench.MethodHandleITCase]/[method:methodHandlesIdentity()]',\n '[engine:junit-jupiter]/[class:edu.neu.ccs.prl.galette.bench.MethodHandleJava9ITCase]/[method:methodHandlesDropArgumentsToMatch()]',\n '[engine:junit-jupiter]/[class:edu.neu.ccs.prl.galette.bench.MethodReflectionITCase]/[test-template:setValue(java.lang.Class, boolean, edu.neu.ccs.prl.galette.bench.HolderValueCategory)]/[test-template-invocation:#26]',\n '[engine:junit-jupiter]/[class:edu.neu.ccs.prl.galette.bench.RecordTypeITCase]/[test-template:hashCodeByte(boolean)]/[test-template-invocation:#1]',\n '[engine:junit-jupiter]/[class:edu.neu.ccs.prl.galette.bench.StaticInitializerITCase]/[method:classInitializerWithMethodCall(edu.neu.ccs.prl.galette.bench.extension.TagManager, edu.neu.ccs.prl.galette.bench.extension.FlowChecker)]',\n '[engine:junit-jupiter]/[class:edu.neu.ccs.prl.galette.bench.StringBuilderConcatITCase]/[test-template:concatWithShort(boolean, boolean)]/[test-template-invocation:#2]',\n '[engine:junit-jupiter]/[class:edu.neu.ccs.prl.galette.bench.StringITCase]/[test-template:substring(boolean)]/[test-template-invocation:#1]',\n '[engine:junit-jupiter]/[class:edu.neu.ccs.prl.galette.bench.StringIndyConcatITCase]/[test-template:concatWithBoolean(boolean, boolean)]/[test-template-invocation:#2]',\n '[engine:junit-jupiter]/[class:edu.neu.ccs.prl.galette.bench.SunUnsafeITCase]/[test-template:putFloat(boolean, edu.neu.ccs.prl.galette.bench.VariableLocation, edu.neu.ccs.prl.galette.bench.AccessPolicy)]/[test-template-invocation:#6]',\n '[engine:junit-jupiter]/[class:edu.neu.ccs.prl.galette.bench.VarHandleITCase]/[test-template:compareAndExchangeByte(boolean, edu.neu.ccs.prl.galette.bench.VariableLocation, edu.neu.ccs.prl.galette.bench.AccessMode)]/[test-template-invocation:#10]']"
     },
     "execution_count": 8,
     "metadata": {},
     "output_type": "execute_result"
    }
   ],
   "source": [
    "# Select tests where MirrorTaint failed on Java 21 due to a propagation failure\n",
    "x = select(data, tool='mirror-taint', result='tag', version=21)\n",
    "# Collect the unique functional groups for the failures\n",
    "groups = x['group'].drop_duplicates().to_list()\n",
    "# Select one failure from each functional group at random\n",
    "samples = []\n",
    "for group in groups:\n",
    "    y = select(x,group=group)\n",
    "    samples.append(y.sample(1, random_state=77))\n",
    "pd.concat(samples)['test'].sort_values().to_list()"
   ],
   "metadata": {
    "collapsed": false,
    "ExecuteTime": {
     "end_time": "2024-11-08T16:40:57.922589Z",
     "start_time": "2024-11-08T16:40:57.889212Z"
    }
   },
   "id": "3af340b4267d168a",
   "execution_count": 8
  },
  {
   "cell_type": "code",
   "outputs": [
    {
     "data": {
      "text/plain": "               tool  version  \\\n30266  mirror-taint       21   \n30269  mirror-taint       21   \n30270  mirror-taint       21   \n\n                                                    test        group  tp  fp  \\\n30266  [engine:junit-jupiter]/[class:edu.neu.ccs.prl....  ArrayLength   0   1   \n30269  [engine:junit-jupiter]/[class:edu.neu.ccs.prl....  ArrayLength   0   1   \n30270  [engine:junit-jupiter]/[class:edu.neu.ccs.prl....  ArrayLength   0   1   \n\n       fn   status result  trial_id  \n30266   7  success    tag        11  \n30269   6  success    tag        11  \n30270   6  success    tag        11  ",
      "text/html": "<div>\n<style scoped>\n    .dataframe tbody tr th:only-of-type {\n        vertical-align: middle;\n    }\n\n    .dataframe tbody tr th {\n        vertical-align: top;\n    }\n\n    .dataframe thead th {\n        text-align: right;\n    }\n</style>\n<table border=\"1\" class=\"dataframe\">\n  <thead>\n    <tr style=\"text-align: right;\">\n      <th></th>\n      <th>tool</th>\n      <th>version</th>\n      <th>test</th>\n      <th>group</th>\n      <th>tp</th>\n      <th>fp</th>\n      <th>fn</th>\n      <th>status</th>\n      <th>result</th>\n      <th>trial_id</th>\n    </tr>\n  </thead>\n  <tbody>\n    <tr>\n      <th>30266</th>\n      <td>mirror-taint</td>\n      <td>21</td>\n      <td>[engine:junit-jupiter]/[class:edu.neu.ccs.prl....</td>\n      <td>ArrayLength</td>\n      <td>0</td>\n      <td>1</td>\n      <td>7</td>\n      <td>success</td>\n      <td>tag</td>\n      <td>11</td>\n    </tr>\n    <tr>\n      <th>30269</th>\n      <td>mirror-taint</td>\n      <td>21</td>\n      <td>[engine:junit-jupiter]/[class:edu.neu.ccs.prl....</td>\n      <td>ArrayLength</td>\n      <td>0</td>\n      <td>1</td>\n      <td>6</td>\n      <td>success</td>\n      <td>tag</td>\n      <td>11</td>\n    </tr>\n    <tr>\n      <th>30270</th>\n      <td>mirror-taint</td>\n      <td>21</td>\n      <td>[engine:junit-jupiter]/[class:edu.neu.ccs.prl....</td>\n      <td>ArrayLength</td>\n      <td>0</td>\n      <td>1</td>\n      <td>6</td>\n      <td>success</td>\n      <td>tag</td>\n      <td>11</td>\n    </tr>\n  </tbody>\n</table>\n</div>"
     },
     "execution_count": 10,
     "metadata": {},
     "output_type": "execute_result"
    }
   ],
   "source": [
    "select(x, group='ArrayLength')"
   ],
   "metadata": {
    "collapsed": false,
    "ExecuteTime": {
     "end_time": "2024-11-08T19:06:55.190093Z",
     "start_time": "2024-11-08T19:06:55.180798Z"
    }
   },
   "id": "1e746de8e1c667d4",
   "execution_count": 10
  },
  {
   "cell_type": "code",
   "outputs": [],
   "source": [],
   "metadata": {
    "collapsed": false
   },
   "id": "d97024bcf017963e"
  }
 ],
 "metadata": {
  "kernelspec": {
   "display_name": "Python 3",
   "language": "python",
   "name": "python3"
  },
  "language_info": {
   "codemirror_mode": {
    "name": "ipython",
    "version": 2
   },
   "file_extension": ".py",
   "mimetype": "text/x-python",
   "name": "python",
   "nbconvert_exporter": "python",
   "pygments_lexer": "ipython2",
   "version": "2.7.6"
  }
 },
 "nbformat": 4,
 "nbformat_minor": 5
}
